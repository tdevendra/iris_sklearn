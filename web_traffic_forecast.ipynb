{
 "cells": [
  {
   "cell_type": "code",
   "execution_count": null,
   "metadata": {},
   "outputs": [],
   "source": [
    "# Enter your code here. Read input from STDIN. Print output to STDOUT\n",
    "import numpy as np\n",
    "import pandas as pd\n",
    "\n",
    "days = []\n",
    "sessions = []\n",
    "N = int(input().strip())\n",
    "for i in range(0, N):\n",
    "    sess = int(input().strip())\n",
    "    sessions.append(sess)\n",
    "    days.append(i)\n",
    "\n",
    "d = {'day': days, 'sessions': sessions}\n",
    "sessions = np.array(sessions)\n",
    "data = pd.DataFrame(sessions,\n",
    "                  columns=[\"sessions\"],\n",
    "                  index=pd.date_range(\"20121001\", periods=N))\n",
    "\n",
    "#df = pd.DataFrame(d, columns=['day', 'sessions'])\n",
    "#df.set_index('day')\n",
    "#print(data.head())\n",
    "\n",
    "train = data.loc['2012-01-01':'2014-01-01']\n",
    "test = data.loc['2014-01-01':]\n",
    "\n",
    "# from sklearn.preprocessing import MinMaxScaler\n",
    "# sc = MinMaxScaler(feature_range=(0,1))\n",
    "# scaled_data = sc.fit_transform(dataset)\n",
    "\n",
    "from statsmodels.tsa.seasonal import seasonal_decompose\n",
    "result = seasonal_decompose(data, model='multiplicative')\n",
    "\n",
    "from statsmodels.tsa.arima_model import ARIMA\n",
    "# fit model\n",
    "# model = ARIMA(data, order=(2,1,2))\n",
    "# model_fit = model.fit(disp=0)\n",
    "\n",
    "#print(data.head())\n",
    "\n",
    "model = ARIMA(data, order=(5,1,0))\n",
    "model_fit = model.fit(disp=-1)\n",
    "#output = model_fit.predict(start=1, end=N+31)\n",
    "fc, se, conf = model_fit.forecast(30)\n",
    "\n",
    "#print(fc)\n",
    "#last = output[-30:]\n",
    "print(\"\\n\".join([str(int(x)) for x in fc]))\n",
    "\n"
   ]
  }
 ],
 "metadata": {
  "kernelspec": {
   "display_name": "Python 3",
   "language": "python",
   "name": "python3"
  },
  "language_info": {
   "codemirror_mode": {
    "name": "ipython",
    "version": 3
   },
   "file_extension": ".py",
   "mimetype": "text/x-python",
   "name": "python",
   "nbconvert_exporter": "python",
   "pygments_lexer": "ipython3",
   "version": "3.5.0"
  }
 },
 "nbformat": 4,
 "nbformat_minor": 2
}
