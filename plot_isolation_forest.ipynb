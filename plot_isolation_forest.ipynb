{
 "cells": [
  {
   "cell_type": "code",
   "execution_count": 1,
   "metadata": {},
   "outputs": [],
   "source": [
    "%matplotlib inline"
   ]
  },
  {
   "cell_type": "markdown",
   "metadata": {},
   "source": [
    "\n",
    "# IsolationForest example\n",
    "\n",
    "\n",
    "An example using :class:`sklearn.ensemble.IsolationForest` for anomaly\n",
    "detection.\n",
    "\n",
    "The IsolationForest 'isolates' observations by randomly selecting a feature\n",
    "and then randomly selecting a split value between the maximum and minimum\n",
    "values of the selected feature.\n",
    "\n",
    "Since recursive partitioning can be represented by a tree structure, the\n",
    "number of splittings required to isolate a sample is equivalent to the path\n",
    "length from the root node to the terminating node.\n",
    "\n",
    "This path length, averaged over a forest of such random trees, is a measure\n",
    "of normality and our decision function.\n",
    "\n",
    "Random partitioning produces noticeable shorter paths for anomalies.\n",
    "Hence, when a forest of random trees collectively produce shorter path lengths\n",
    "for particular samples, they are highly likely to be anomalies.\n",
    "\n",
    "\n"
   ]
  },
  {
   "cell_type": "code",
   "execution_count": 37,
   "metadata": {},
   "outputs": [],
   "source": [
    "import pandas as pd\n",
    "import numpy as np\n",
    "import matplotlib.pyplot as plt\n",
    "from sklearn.ensemble import IsolationForest"
   ]
  },
  {
   "cell_type": "code",
   "execution_count": 99,
   "metadata": {},
   "outputs": [],
   "source": [
    "train_df = pd.read_csv(r'data\train.csv', parse_dates=['origination_date', 'first_payment_date'], infer_datetime_format=True)"
   ]
  },
  {
   "cell_type": "code",
   "execution_count": 100,
   "metadata": {},
   "outputs": [],
   "source": [
    "test_df = pd.read_csv(r'data\test\test.csv', parse_dates=['origination_date', 'first_payment_date'], infer_datetime_format=True)"
   ]
  },
  {
   "cell_type": "code",
   "execution_count": 101,
   "metadata": {},
   "outputs": [],
   "source": [
    "from sklearn.preprocessing import LabelEncoder\n",
    "le = LabelEncoder()\n",
    "train_df['financial_institution'] = le.fit_transform(train_df['financial_institution'])\n",
    "test_df['financial_institution'] = le.fit_transform(test_df['financial_institution'])\n",
    "le2 = LabelEncoder()\n",
    "train_df['source'] = le2.fit_transform(train_df['source'])\n",
    "test_df['source'] = le2.fit_transform(test_df['source'])\n",
    "le3 = LabelEncoder()\n",
    "train_df['insurance_type'] = le3.fit_transform(train_df['insurance_type'])\n",
    "test_df['insurance_type'] = le3.fit_transform(test_df['insurance_type'])\n",
    "le4 = LabelEncoder()\n",
    "train_df['loan_purpose'] = le4.fit_transform(train_df['loan_purpose'])\n",
    "test_df['loan_purpose'] = le4.fit_transform(test_df['loan_purpose'])"
   ]
  },
  {
   "cell_type": "code",
   "execution_count": 102,
   "metadata": {},
   "outputs": [],
   "source": [
    "train_df.drop(['loan_id', 'first_payment_date', 'origination_date'], axis=1, inplace=True)\n",
    "test_df.drop(['loan_id', 'first_payment_date', 'origination_date'], axis=1, inplace=True)"
   ]
  },
  {
   "cell_type": "code",
   "execution_count": 124,
   "metadata": {},
   "outputs": [],
   "source": [
    "# Generate train data\n",
    "y_train = train_df.m13\n",
    "X_train = train_df.unpaid_principal_bal\n",
    "X_test = test_df.unpaid_principal_bal"
   ]
  },
  {
   "cell_type": "code",
   "execution_count": 125,
   "metadata": {},
   "outputs": [],
   "source": [
    "X_train = X_train.to_numpy()\n",
    "X_test = X_test.to_numpy()\n",
    "X_train = X_train.reshape(-1, 1)\n",
    "X_test = X_test.reshape(-1, 1)"
   ]
  },
  {
   "cell_type": "code",
   "execution_count": 140,
   "metadata": {},
   "outputs": [],
   "source": [
    "# fit the model\n",
    "clf = IsolationForest(behaviour='new', max_samples=116058,\n",
    "                      random_state=42, contamination=0.00003)\n",
    "clf.fit(X_train)\n",
    "y_pred_train = clf.predict(X_train)\n",
    "y_pred_test = clf.predict(X_test)"
   ]
  },
  {
   "cell_type": "code",
   "execution_count": 141,
   "metadata": {},
   "outputs": [
    {
     "data": {
      "text/plain": [
       "array([[214000],\n",
       "       [144000],\n",
       "       [366000],\n",
       "       ...,\n",
       "       [166000],\n",
       "       [169000],\n",
       "       [252000]], dtype=int64)"
      ]
     },
     "execution_count": 141,
     "metadata": {},
     "output_type": "execute_result"
    }
   ],
   "source": [
    "X_train"
   ]
  },
  {
   "cell_type": "code",
   "execution_count": 142,
   "metadata": {},
   "outputs": [
    {
     "data": {
      "text/plain": [
       "<matplotlib.collections.PathCollection at 0x2b6100b8>"
      ]
     },
     "execution_count": 142,
     "metadata": {},
     "output_type": "execute_result"
    },
    {
     "data": {
      "image/png": "[encoded data removed]",
      "text/plain": [
       "<Figure size 432x288 with 1 Axes>"
      ]
     },
     "metadata": {
      "needs_background": "light"
     },
     "output_type": "display_data"
    }
   ],
   "source": [
    "plt.scatter(X_train, y_pred_train, label='Normal')"
   ]
  },
  {
   "cell_type": "code",
   "execution_count": null,
   "metadata": {},
   "outputs": [],
   "source": []
  },
  {
   "cell_type": "code",
   "execution_count": null,
   "metadata": {},
   "outputs": [],
   "source": []
  },
  {
   "cell_type": "code",
   "execution_count": null,
   "metadata": {},
   "outputs": [],
   "source": []
  },
  {
   "cell_type": "code",
   "execution_count": null,
   "metadata": {},
   "outputs": [],
   "source": []
  },
  {
   "cell_type": "code",
   "execution_count": null,
   "metadata": {},
   "outputs": [],
   "source": []
  }
 ],
 "metadata": {
  "kernelspec": {
   "display_name": "Python 3",
   "language": "python",
   "name": "python3"
  },
  "language_info": {
   "codemirror_mode": {
    "name": "ipython",
    "version": 3
   },
   "file_extension": ".py",
   "mimetype": "text/x-python",
   "name": "python",
   "nbconvert_exporter": "python",
   "pygments_lexer": "ipython3",
   "version": "3.5.0"
  }
 },
 "nbformat": 4,
 "nbformat_minor": 1
}
